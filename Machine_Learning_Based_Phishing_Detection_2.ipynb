{
  "cells": [
    {
      "cell_type": "code",
      "execution_count": 1,
      "metadata": {
        "id": "jRnN_uXMYRwD"
      },
      "outputs": [],
      "source": [
        "#import VANETFunctions.py as fn\n",
        "# Importing necessary libraries\n",
        "import pandas as pd \n",
        "import numpy as np \n",
        "import seaborn as sns \n",
        "import matplotlib.pyplot as plt \n",
        "from collections import Counter\n"
      ]
    },
    {
      "cell_type": "code",
      "execution_count": 2,
      "metadata": {
        "id": "yt8cn1edYeCw"
      },
      "outputs": [],
      "source": [
        "\n",
        "from sklearn.preprocessing import StandardScaler, MinMaxScaler\n",
        "from sklearn.preprocessing import LabelEncoder\n",
        "from sklearn.decomposition import PCA\n",
        "from sklearn.model_selection import KFold\n",
        "from sklearn.model_selection import train_test_split \n",
        "from sklearn.ensemble import RandomForestClassifier\n",
        "from sklearn.linear_model import LogisticRegression\n",
        "from sklearn.neighbors import KNeighborsClassifier\n",
        "from sklearn.svm import LinearSVC, SVC\n",
        "from xgboost import XGBClassifier\n",
        "from sklearn.inspection import permutation_importance\n",
        "from sklearn.metrics import classification_report\n"
      ]
    },
    {
      "cell_type": "code",
      "execution_count": 3,
      "metadata": {
        "id": "BpmyLfM_Ygl_"
      },
      "outputs": [],
      "source": [
        "# Importing performance metrics\n",
        "from sklearn import preprocessing,metrics\n",
        "\n",
        "from sklearn.metrics import (accuracy_score, confusion_matrix, precision_score, recall_score, f1_score, roc_curve, roc_auc_score)\n",
        "from sklearn.model_selection import train_test_split \n",
        "from imblearn.pipeline import Pipeline, make_pipeline\n",
        "from imblearn.over_sampling import SMOTE\n",
        "from sklearn.model_selection import cross_val_score, cross_val_predict\n",
        "from sklearn.model_selection import (GridSearchCV, RandomizedSearchCV)\n",
        "\n",
        "\n",
        "\n"
      ]
    },
    {
      "cell_type": "code",
      "execution_count": 4,
      "metadata": {
        "id": "9KRhmmRnYjb5"
      },
      "outputs": [],
      "source": [
        "# Hyperparameter Tuning\n",
        "from sklearn.model_selection import (GridSearchCV, RandomizedSearchCV)\n",
        "\n"
      ]
    },
    {
      "cell_type": "code",
      "execution_count": 5,
      "metadata": {
        "id": "6iQTZug4Ylty"
      },
      "outputs": [],
      "source": [
        "# Importing performance metrics\n",
        "from sklearn import preprocessing,metrics\n",
        "from sklearn.metrics import (accuracy_score, confusion_matrix, precision_score, recall_score, f1_score, roc_curve, roc_auc_score)\n",
        "from sklearn.metrics import  precision_recall_curve, roc_auc_score, confusion_matrix, accuracy_score, recall_score, precision_score, f1_score,auc, roc_curve, plot_confusion_matrix\n"
      ]
    },
    {
      "cell_type": "code",
      "execution_count": 7,
      "metadata": {
        "id": "qFpClFYbYyQ-"
      },
      "outputs": [],
      "source": [
        "\n",
        "def save_model(model, filename):\n",
        "    import pickle\n",
        "    from os import path\n",
        "    pkl_filename = \"Dataset/savedFiles\" + \"/\" + filename + \".pkl\"\n",
        "    if (not path.isfile(pkl_filename)):\n",
        "  # saving the trained model to disk \n",
        "      with open(pkl_filename, 'wb') as file:\n",
        "        pickle.dump(model, file)\n",
        "      print(\"Saved model to disk\")\n",
        "    else:\n",
        "      print(\"Previous Model exists on the disk! Please Remove\")\n",
        "\n",
        "\n"
      ]
    },
    {
      "cell_type": "code",
      "execution_count": 8,
      "metadata": {
        "id": "I6ZEwhicY_k1"
      },
      "outputs": [],
      "source": [
        "\n",
        "data = pd.read_csv('/content/dataset_small.csv')\n",
        "df = data.copy()\n"
      ]
    },
    {
      "cell_type": "code",
      "execution_count": 9,
      "metadata": {
        "colab": {
          "base_uri": "https://localhost:8080/"
        },
        "id": "zekeOe5IZEne",
        "outputId": "a195e219-50b1-43f5-ec34-ee6bcfd6e5e9"
      },
      "outputs": [
        {
          "output_type": "stream",
          "name": "stdout",
          "text": [
            "Percentage of phishing data in dataset:  52.26\n"
          ]
        }
      ],
      "source": [
        "# Checking the balance of dataset\n",
        "from collections import Counter\n",
        "Counter(df['phishing']) # Data is nearly balanced\n",
        "phishingClassRatio = df[df['phishing'] == 1].shape[0]/df.shape[0]*100\n",
        "print(\"Percentage of phishing data in dataset: \", round(phishingClassRatio,2))\n"
      ]
    },
    {
      "cell_type": "code",
      "execution_count": 10,
      "metadata": {
        "colab": {
          "base_uri": "https://localhost:8080/"
        },
        "id": "ZXRLVgfGZHz9",
        "outputId": "5ef9af7d-8747-424d-8c47-184bb4448c51"
      },
      "outputs": [
        {
          "output_type": "execute_result",
          "data": {
            "text/plain": [
              "Index(['qty_dot_url', 'qty_hyphen_url', 'qty_underline_url', 'qty_slash_url',\n",
              "       'qty_questionmark_url', 'qty_equal_url', 'qty_at_url', 'qty_and_url',\n",
              "       'qty_exclamation_url', 'qty_space_url',\n",
              "       ...\n",
              "       'qty_ip_resolved', 'qty_nameservers', 'qty_mx_servers', 'ttl_hostname',\n",
              "       'tls_ssl_certificate', 'qty_redirects', 'url_google_index',\n",
              "       'domain_google_index', 'url_shortened', 'phishing'],\n",
              "      dtype='object', length=112)"
            ]
          },
          "metadata": {},
          "execution_count": 10
        }
      ],
      "source": [
        "df.columns\n"
      ]
    },
    {
      "cell_type": "code",
      "execution_count": 11,
      "metadata": {
        "colab": {
          "base_uri": "https://localhost:8080/"
        },
        "id": "tGFZjkbmZK09",
        "outputId": "c40aa594-3db1-4902-d986-9cad42957b77"
      },
      "outputs": [
        {
          "output_type": "stream",
          "name": "stdout",
          "text": [
            "<class 'pandas.core.frame.DataFrame'>\n",
            "RangeIndex: 58645 entries, 0 to 58644\n",
            "Columns: 112 entries, qty_dot_url to phishing\n",
            "dtypes: float64(1), int64(111)\n",
            "memory usage: 50.1 MB\n"
          ]
        }
      ],
      "source": [
        "df.isnull().sum() # There are no missing values present in dataset\n",
        "df.info()\n"
      ]
    },
    {
      "cell_type": "code",
      "execution_count": 12,
      "metadata": {
        "id": "oYdAmiQzZMf2"
      },
      "outputs": [],
      "source": [
        "# Finding number of levels in each variable\n",
        "unique = df.nunique().sort_values(ascending = False)\n",
        "# The variables which has only one unique value have same fixed value for all samples so such variables cannot be considered as variable \n"
      ]
    },
    {
      "cell_type": "code",
      "execution_count": 13,
      "metadata": {
        "id": "jFZmbEEnZQGl"
      },
      "outputs": [],
      "source": [
        "\n",
        "# Removing variables which has same value for all samples\n",
        "# Extracting variable names with only 1 uniques level\n",
        "noVar = unique[unique == 1].index\n",
        "\n",
        "df.drop(columns = noVar, axis = 1, inplace = True)\n",
        "\n"
      ]
    },
    {
      "cell_type": "code",
      "execution_count": 14,
      "metadata": {
        "id": "7jrHnA0JZS8G"
      },
      "outputs": [],
      "source": [
        "# Removed duplicates\n",
        "df.drop_duplicates(keep = 'first', inplace = True)\n",
        "\n",
        "\n",
        "summary = df.describe().T\n",
        "\n"
      ]
    },
    {
      "cell_type": "code",
      "execution_count": 15,
      "metadata": {
        "id": "Y5V74cv_ZVcc"
      },
      "outputs": [],
      "source": [
        "# Not removing outliers from those variables which has 0 IQR because that will cause to delete all samples from variable\n",
        "var0Iqr = summary.loc[(summary['25%']==0) & (summary['50%'] == 0) & (summary['75%'] == 0)].index.tolist()\n",
        "setVar0Iqr = set(var0Iqr)\n"
      ]
    },
    {
      "cell_type": "code",
      "execution_count": 16,
      "metadata": {
        "id": "xL2CQnZZZYCS"
      },
      "outputs": [],
      "source": [
        "\n",
        "# Function for replacing outliers with IQR method\n",
        "def fun_iqr(var):\n",
        "    # Calculating 25th and 75th quartile\n",
        "    q25, q75 = var.quantile(0.25), var.quantile(0.75)\n",
        "\n",
        "    # calculating interquartile range\n",
        "    iqr = q75-q25\n",
        "\n",
        "    # Calculating upper and lower whiskers of boxplot\n",
        "    lower, upper = q25 - 1.5*iqr, q75 + 1.5*iqr\n",
        "    return lower, upper\n",
        "\n"
      ]
    },
    {
      "cell_type": "code",
      "execution_count": 17,
      "metadata": {
        "id": "x0rtDxW3ZaqX"
      },
      "outputs": [],
      "source": [
        "\n",
        "def outliers(df,list):\n",
        "    for i in range(len(list)):\n",
        "        # IQR method for replacing outliers\n",
        "        lower, upper = fun_iqr(df[list[i]])\n",
        "        \n",
        "        # Replacing the outliers with median( Median is considered because it is not affected by outliers) to prevent the loss of data\n",
        "        #df[list[i]] = np.where((df[list[i]] < lower) | (df[list[i]] > upper), df[list[i]].median(), df[list[i]])\n",
        "        outliers = df[((df[list[i]]<lower) | (df[list[i]]>upper))]\n",
        "        return outliers\n",
        "        #return df_no_out\n",
        "        #sns.boxplot(y=df[list[i]])\n",
        "        #plt.show()\n",
        "\n"
      ]
    },
    {
      "cell_type": "code",
      "execution_count": 18,
      "metadata": {
        "colab": {
          "base_uri": "https://localhost:8080/",
          "height": 336
        },
        "id": "z3IihBKxZdnU",
        "outputId": "c2daaba3-f48c-4560-e333-e223b1b9ba41"
      },
      "outputs": [
        {
          "output_type": "stream",
          "name": "stderr",
          "text": [
            "/usr/local/lib/python3.7/dist-packages/seaborn/distributions.py:2619: FutureWarning: `distplot` is a deprecated function and will be removed in a future version. Please adapt your code to use either `displot` (a figure-level function with similar flexibility) or `histplot` (an axes-level function for histograms).\n",
            "  warnings.warn(msg, FutureWarning)\n"
          ]
        },
        {
          "output_type": "display_data",
          "data": {
            "text/plain": [
              "<Figure size 432x288 with 1 Axes>"
            ],
            "image/png": "[encoded data removed]"
          },
          "metadata": {
            "needs_background": "light"
          }
        }
      ],
      "source": [
        "\n",
        "# Removing column names which has 0 Iqr\n",
        "ls = df.columns\n",
        "setAllVar = set(ls)\n",
        "set = setAllVar.difference(setVar0Iqr)\n",
        "ls = list(set)\n",
        "\n",
        "\n",
        "df_out = outliers(df, ls)\n",
        "index = df_out.index.tolist()\n",
        "dfOutDrop = df.drop(index, axis = 0)\n",
        "dfCleaned = dfOutDrop.reset_index()\n",
        "dfCleaned.drop(columns = ['index'], axis = 1, inplace = True)\n",
        "\n",
        "summ = dfCleaned.describe()\n",
        "\n",
        "sns.distplot(dfCleaned['qty_hyphen_url'])\n",
        "plt.show()\n",
        "\n"
      ]
    },
    {
      "cell_type": "code",
      "execution_count": 19,
      "metadata": {
        "id": "Q36JavgyZhky"
      },
      "outputs": [],
      "source": [
        "\n",
        "# Creating train test data (retaining original dataframe in df)\n",
        "y = dfCleaned['phishing']\n",
        "X = dfCleaned.drop(columns = ['phishing'], axis = 1)\n",
        "\n",
        "# Standardization\n",
        "col = X.columns\n",
        "scaler = StandardScaler()\n",
        "X = scaler.fit_transform(X)\n",
        "X = pd.DataFrame(X, columns = col)\n",
        "\n",
        "\n",
        "#----------------------------------------PCA: 97% explained variance-----------------------------------------\n",
        "pca = PCA(n_components = 0.97)\n",
        "pcaProjection = pca.fit_transform(X)\n",
        "explainedVariance = pca.explained_variance_ratio_\n",
        "var = np.round(pca.explained_variance_ratio_, decimals=3)*100\n",
        "\n"
      ]
    },
    {
      "cell_type": "code",
      "execution_count": 20,
      "metadata": {
        "colab": {
          "base_uri": "https://localhost:8080/",
          "height": 295
        },
        "id": "5yxKoJkJZmqp",
        "outputId": "fed98706-9cf1-46ff-b61a-cedeecc79ac4"
      },
      "outputs": [
        {
          "output_type": "display_data",
          "data": {
            "text/plain": [
              "<Figure size 432x288 with 1 Axes>"
            ],
            "image/png": "[encoded data removed]"
          },
          "metadata": {
            "needs_background": "light"
          }
        }
      ],
      "source": [
        "\n",
        "# Plot showing the amount of cumulative variation explained with corresponding number of components \n",
        "plt.ylabel('% Variance Explained')\n",
        "plt.xlabel('# of Principal Components')\n",
        "plt.title('Scree Plot')\n",
        "plt.ylim(0,40)\n",
        "plt.style.context('seaborn-whitegrid')\n",
        "plt.plot(var)\n",
        "plt.show()\n",
        "# From scree plot we can select 10 components near elbow. After that explained variance is similar for further components.\n",
        "\n"
      ]
    },
    {
      "cell_type": "code",
      "execution_count": 21,
      "metadata": {
        "colab": {
          "base_uri": "https://localhost:8080/"
        },
        "id": "GRy4H9GeZp9N",
        "outputId": "35f69419-611b-4eb8-a8c4-b49f43a591fc"
      },
      "outputs": [
        {
          "output_type": "execute_result",
          "data": {
            "text/plain": [
              "array([36.8, 42.2, 46.5, 50. , 53.2, 55.8, 58.1, 60.3, 62.3, 64.2, 66. ,\n",
              "       67.6, 69.2, 70.7, 72.2, 73.6, 75. , 76.4, 77.7, 79. , 80.3, 81.6,\n",
              "       82.8, 84. , 85.2, 86.3, 87.4, 88.5, 89.5, 90.5, 91.5, 92.4, 93.3,\n",
              "       94.1, 94.9, 95.6, 96.3, 97. ])"
            ]
          },
          "metadata": {},
          "execution_count": 21
        }
      ],
      "source": [
        "\n",
        "# Percentage of cumulative variance \n",
        "varCum=np.cumsum(np.round(pca.explained_variance_ratio_, decimals=3)*100)\n",
        "varCum\n",
        "\n"
      ]
    },
    {
      "cell_type": "code",
      "execution_count": 22,
      "metadata": {
        "colab": {
          "base_uri": "https://localhost:8080/",
          "height": 295
        },
        "id": "guZSvPyNZtEF",
        "outputId": "c385ee8f-e030-4f02-e96a-2c1d3b182fb0"
      },
      "outputs": [
        {
          "output_type": "display_data",
          "data": {
            "text/plain": [
              "<Figure size 432x288 with 1 Axes>"
            ],
            "image/png": "[encoded data removed]"
          },
          "metadata": {
            "needs_background": "light"
          }
        }
      ],
      "source": [
        "\n",
        "# Plot showing the amount of cumulative variation explained with corresponding number of components \n",
        "plt.ylabel('% Cum. Variance Explained')\n",
        "plt.xlabel('# of Principal Components')\n",
        "plt.title('PCA Analysis')\n",
        "plt.ylim(20,100)\n",
        "plt.style.context('seaborn-whitegrid')\n",
        "plt.plot(varCum)\n",
        "plt.show()\n"
      ]
    },
    {
      "cell_type": "code",
      "execution_count": null,
      "metadata": {
        "id": "qR-elUc5ZvjP"
      },
      "outputs": [],
      "source": [
        "\n",
        "# Adding PC names to columns\n",
        "# Extracting PC components. Added 1 to start with 1 till 43\n",
        "PC_values = np.arange(pca.n_components_) + 1\n",
        "PCs = pd.DataFrame(PC_values)\n",
        "# Adding string 'PC' to each value of column\n",
        "PCs[0] = 'PC' + PCs[0].astype(str)\n",
        "type(PCs[0])\n",
        "# Converting series to list to obtain a list of column names\n",
        "PClist = PCs[0].tolist()\n",
        "\n",
        "# Assigning column names to dataframe\n",
        "X_pca = pd.DataFrame(pcaProjection, columns = PClist)\n",
        "\n",
        "\n",
        "# Selecting 10 principal components  \n",
        "X = X_pca.iloc[:,:10]\n",
        "y = pd.DataFrame(y, columns = ['phishing'])\n",
        "df = pd.concat([X, y], axis = 1)\n",
        "\n",
        "\n",
        "sns.pairplot(df, hue = 'phishing', palette= 'hls')\n",
        "plt.show()\n",
        "\n",
        "y = df['phishing']\n",
        "X = df.drop(columns = ['phishing'], axis = 1)\n",
        "\n",
        "X_train, X_test, y_train, y_test = train_test_split(X,y, test_size = 0.30, random_state = 0)\n",
        "\n"
      ]
    },
    {
      "cell_type": "code",
      "execution_count": null,
      "metadata": {
        "id": "Tw5vhPTTZ0_l"
      },
      "outputs": [],
      "source": [
        "#_________________________________________________________________________________________________________________\n",
        "\n",
        "# Functions:\n",
        "    \n",
        "def evaluate_classification_model(y_test, y_pred_test):\n",
        "    \n",
        "    target_names = ['Non-phished', 'Phishing']\n",
        "\n",
        "    print(classification_report(y_test, y_pred_test, target_names=target_names))\n",
        "\n",
        "\n",
        "    conf_matrix = confusion_matrix(y_test, y_pred_test)\n",
        "    sns.heatmap(data=conf_matrix, annot=True, fmt='g', xticklabels=target_names, yticklabels=target_names)\n",
        "    plt.title(\"Confusion Matrix\")\n",
        "    plt.xlabel(\"Predicted\")\n",
        "    plt.ylabel(\"Actual\")\n",
        "    plt.xtickslabels(rotation=90)\n",
        "    plt.ytickslabels(rotation=90)\n",
        "    plt.yticks(target_names)\n",
        "    plt.show()\n",
        "\n"
      ]
    },
    {
      "cell_type": "code",
      "execution_count": null,
      "metadata": {
        "id": "vleBmwJGaVI-"
      },
      "outputs": [],
      "source": [
        "\n",
        "## Define function\n",
        "def fit_n_pred(model, X_tr, y_tr, X_te):\n",
        "    \n",
        "    \"\"\"Takes in Classifier, training data (X,y), and test data(X). Will output \n",
        "    predictions based upon both the training and test data using the sklearn\n",
        "    .predict method. MUST unpack into two variables (train, test).\"\"\"\n",
        "    \n",
        "    ## Fitting classifier to training data\n",
        "    model.fit(X_tr, y_tr)\n",
        "\n",
        "    ## Generate predictions for training + test data\n",
        "    y_preds = model.predict(X_te)\n",
        "    y_preds_prob = model.predict_proba(X_te)[:,1]\n",
        "    \n",
        "    ## Optional display check\n",
        "    #display(model)\n",
        "    #print(model.best_params_)\n",
        "    \n",
        "    return y_preds, y_preds_prob\n",
        "\n"
      ]
    },
    {
      "cell_type": "code",
      "execution_count": null,
      "metadata": {
        "id": "bWWZM4O4abQG"
      },
      "outputs": [],
      "source": [
        "\n",
        "#plot_curve(y_test, y_preds_prob, 'Random Forest with Important Features')\n",
        "sns.set('talk', 'whitegrid', 'dark', font_scale=1, font='Ricty',rc={\"lines.linewidth\": 2, 'grid.linestyle': '--'})\n",
        "def plotAUC(truth, pred, lab):\n",
        "    fpr, tpr, thresholds = metrics.roc_curve(truth,pred)       # Returns fpr, tpr and thresholds\n",
        "    roc_auc = metrics.auc(fpr, tpr)                            # Returns area under the curve \n",
        "    lw = 2\n",
        "    c = (np.random.rand(), np.random.rand(), np.random.rand())\n",
        "    plt.plot(fpr, tpr, color= c,lw=lw, label= lab +'(AUC = %0.2f)' % roc_auc)\n",
        "    plt.plot([0, 1], [0, 1], color='navy', lw=lw, linestyle='--')\n",
        "    plt.xlim([0.0, 1.0])\n",
        "    plt.ylim([0.0, 1.0])\n",
        "    plt.xlabel('False Positive Rate')\n",
        "    plt.ylabel('True Positive Rate')\n",
        "    plt.title('ROC curve') #Receiver Operating Characteristic \n",
        "    plt.legend(loc=\"lower right\", fontsize=10)\n",
        "    \n",
        "    \n",
        "\n"
      ]
    },
    {
      "cell_type": "code",
      "execution_count": null,
      "metadata": {
        "id": "Tqq4YoMUafLs"
      },
      "outputs": [],
      "source": [
        "\n",
        "#--------------------------------------XGB Classifier with 10 PCs-------------------------------------------\n",
        "\n",
        "\n",
        "params = {\n",
        "\"xgbclassifier__learning_rate\" : [0.05, 0.1, 0.20],\n",
        "#\"subsample\" : [0.6, 0.8, 1.0],\n",
        "\"xgbclassifier__max_depth\" : [3,4,5, 6, 8, 10],\n",
        "\"xgbclassifier__min_child_weight\" : [1,3,5],\n",
        "\"xgbclassifier__gamma\" : [0.0, 0.5, 1.0, 1.5]\n",
        "    }\n",
        "\n",
        "imba_pipeline = make_pipeline(XGBClassifier(random_state=13))\n",
        "\n",
        "rs_xg = RandomizedSearchCV(imba_pipeline, params, scoring = 'accuracy')\n",
        "\n",
        "y_pred, y_pred_prob = fit_n_pred(rs_xg, X_train, y_train, X_test)\n",
        "rs_xg.best_params_\n",
        "\n",
        "evaluate_classification_model(y_test, y_pred)\n",
        "plotAUC(y_test, y_pred_prob, 'XG Boost')\n",
        "\n",
        "\n",
        "#______________________________________________________________________________________________________\n"
      ]
    },
    {
      "cell_type": "code",
      "execution_count": null,
      "metadata": {
        "id": "ZXoS8k4MajSt"
      },
      "outputs": [],
      "source": [
        "\n",
        "#--------------------------------XGB classifier with 43 PCs and 97% variance------------------------------\n",
        "\n",
        "y = pd.DataFrame(y, columns = ['phishing'])\n",
        "df_new = pd.concat([X_pca, y], axis = 1)\n",
        "\n",
        "y = df_new['phishing']\n",
        "X = df_new.drop(columns = ['phishing'], axis = 1)\n",
        "Counter(y)\n",
        "\n",
        "X_train, X_test, y_train, y_test = train_test_split(X,y, test_size = 0.30, random_state = 0)\n",
        "\n",
        "#--------------------------------------XGB Classifier-------------------------------------------\n",
        "\n",
        "params = {\n",
        "\"xgbclassifier__learning_rate\" : [0.05, 0.1, 0.20],\n",
        "#\"subsample\" : [0.6, 0.8, 1.0],\n",
        "\"xgbclassifier__max_depth\" : [3,4,5, 6, 8, 10],\n",
        "\"xgbclassifier__min_child_weight\" : [1,3,5],\n",
        "\"xgbclassifier__gamma\" : [0.0, 0.5, 1.0, 1.5]\n",
        "    }\n",
        "\n",
        "imba_pipeline = make_pipeline(SMOTE(random_state=42), XGBClassifier(random_state=13))\n",
        "\n",
        "rs_xg = RandomizedSearchCV(imba_pipeline, params, scoring = 'accuracy')\n",
        "\n",
        "y_pred, y_pred_prob = fit_n_pred(rs_xg, X_train, y_train, X_test)\n",
        "rs_xg.best_params_\n",
        "\n",
        "evaluate_classification_model(y_test, y_pred)\n",
        "plotAUC(y_test, y_pred_prob, 'XG Boost')\n",
        "save_model(rs_xg, 'modelPcaXgb')\n",
        "\n",
        "#_____________________________________________________________________________________________________\n",
        "\n"
      ]
    },
    {
      "cell_type": "code",
      "execution_count": null,
      "metadata": {
        "id": "3_d5fWzOat9H"
      },
      "outputs": [],
      "source": [
        "\n",
        "#------------------------------------Random Forest Model (n = 10)------------------------------------------\n",
        "\n",
        "# Selecting 10 principal components  \n",
        "X = X_pca.iloc[:,:10]\n",
        "y = pd.DataFrame(y, columns = ['phishing'])\n",
        "df = pd.concat([X, y], axis = 1)\n",
        "\n",
        "\n",
        "y = df['phishing']\n",
        "X = df.drop(columns = ['phishing'], axis = 1)\n",
        "\n",
        "X_train, X_test, y_train, y_test = train_test_split(X,y, test_size = 0.30, random_state = 0)\n",
        "\n",
        "\n",
        "\n",
        "params = {'n_estimators': [50, 100, 200],\n",
        " 'max_depth': [4, 6, 10, 12],\n",
        " 'random_state': [13]}\n",
        "\n",
        "\n",
        "imba_pipeline = make_pipeline(SMOTE(random_state=42), StandardScaler(), RandomForestClassifier(random_state=13))\n",
        "new_params = {'randomforestclassifier__' + key: params[key] for key in params} # Passing the parameters\n",
        "\n",
        "# By default cv=5\n",
        "rs_rf = RandomizedSearchCV(imba_pipeline, new_params, cv=5, scoring='accuracy', return_train_score=True)\n",
        "rs_rf.fit(X_train, y_train)\n",
        "\n",
        "rs_rf.best_params_\n",
        "\n",
        "y_preds = rs_rf.predict(X_test)\n",
        "y_preds_prob = rs_rf.predict_proba(X_test)[:,1]\n",
        "#y_pred, y_pred_prob = fit_n_pred(rs_rf, X_train, y_train, X_test)\n",
        "\n",
        "evaluate_classification_model(y_test, y_pred)\n",
        "plotAUC(y_test, y_pred_prob, 'XG Boost')\n",
        "save_model(rs_rf, 'modelPcaRf')\n",
        "\n",
        "#________________________________________________________________________________________________________\n",
        "#-------------------------------------------------END-----------------------------------------------------------\n"
      ]
    },
    {
      "cell_type": "code",
      "execution_count": null,
      "metadata": {
        "id": "9p2q2r2UayEp"
      },
      "outputs": [],
      "source": [
        "\n",
        "#---------------------------------Logistic Regression: Trial---------------------------------------\n",
        "\n",
        "from sklearn.linear_model import LogisticRegression\n",
        "pipelineLR = make_pipeline(SMOTE(random_state=42), StandardScaler(), LogisticRegression(random_state=1, penalty='l2', solver='lbfgs'))\n",
        "\n",
        "# Create the parameter grid\n",
        "\n",
        "param_grid_lr = [{\n",
        "    'logisticregression__C': [0.001, 0.01, 0.05, 0.1, 0.5, 1.0, 10.0]\n",
        "}]\n",
        "\n",
        "# Create an instance of GridSearch Cross-validation estimator\n",
        "\n",
        "gsLR = GridSearchCV(estimator=pipelineLR,\n",
        "                     param_grid = param_grid_lr,\n",
        "                     scoring='accuracy',\n",
        "                     cv=10,\n",
        "                     refit=True,\n",
        "                     n_jobs=1)\n",
        "\n",
        "# Train the LogisticRegression Classifier\n",
        "gsLR = gsLR.fit(X_train_over_sampled, Y_train_over_sampled)\n",
        "\n",
        "# Print the training score of the best model\n",
        "print(gsLR.best_score_)\n",
        "\n",
        "# Print the model parameters of the best model\n",
        "print(gsLR.best_params_) # {'logisticregression__C': 0.001}\n",
        "\n",
        "# Print the test score of the best model\n",
        "clfLR = gsLR.best_estimator_\n",
        "\n",
        "\n",
        "\n",
        "\n",
        "\n",
        "\n",
        "\n",
        "\n"
      ]
    }
  ],
  "metadata": {
    "colab": {
      "collapsed_sections": [],
      "provenance": []
    },
    "kernelspec": {
      "display_name": "Python 3 (ipykernel)",
      "language": "python",
      "name": "python3"
    },
    "language_info": {
      "codemirror_mode": {
        "name": "ipython",
        "version": 3
      },
      "file_extension": ".py",
      "mimetype": "text/x-python",
      "name": "python",
      "nbconvert_exporter": "python",
      "pygments_lexer": "ipython3",
      "version": "3.9.7"
    }
  },
  "nbformat": 4,
  "nbformat_minor": 0
}